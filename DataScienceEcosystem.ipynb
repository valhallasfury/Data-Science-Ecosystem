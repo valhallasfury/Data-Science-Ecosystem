{
 "cells": [
  {
   "cell_type": "markdown",
   "id": "d259ad0a-21a6-4967-9238-9fda10dca6db",
   "metadata": {
    "tags": []
   },
   "source": [
    "# Data Science Tools and Ecosystem\n",
    "\n",
    "### In this notebook, Data Science Tool and Ecosystems are summarized.\n",
    "\n",
    "**Objectives:**\n",
    "\n",
    "+ Data Science popular languages\n",
    "+ Commonly used libraries\n",
    "+ Tools\n",
    "+ Arithmetic\n",
    "+ Fonts\n",
    "\n",
    "Some of the popular languages the Data Scientists use are:\n",
    "\n",
    "1. Python\n",
    "2. R\n",
    "3. SQL\n",
    "\n",
    "Some of the commonly used libraries used by Data Scientists include:\n",
    "\n",
    "1. Matplotlib\n",
    "2. Numpy\n",
    "3. Pandas\n",
    "\n",
    "| Data Science Tools|\n",
    "|-------------------|\n",
    "| Jupyter Notebook |\n",
    "| Pycharm |\n",
    "| Tensorflow |\n",
    "\n",
    "### Below are a few examples of evaluating arithmetic expressions in Python.\n",
    "\n",
    "# This is a simple arithmetic expression to multiply then add integers."
   ]
  },
  {
   "cell_type": "code",
   "execution_count": 11,
   "id": "fc9c5bd8-74f0-4448-884f-308c8f79d5fa",
   "metadata": {
    "tags": []
   },
   "outputs": [
    {
     "data": {
      "text/plain": [
       "17"
      ]
     },
     "execution_count": 11,
     "metadata": {},
     "output_type": "execute_result"
    }
   ],
   "source": [
    "(3*4)+5"
   ]
  },
  {
   "cell_type": "code",
   "execution_count": null,
   "id": "2b9bbf2f-14ab-43da-b395-cf93da41092b",
   "metadata": {},
   "outputs": [],
   "source": [
    "# This will convert 200 minutes to hours by dividing by 60"
   ]
  },
  {
   "cell_type": "code",
   "execution_count": 10,
   "id": "f97776c2-073d-4fc8-b531-933b3cafe2d5",
   "metadata": {
    "tags": []
   },
   "outputs": [
    {
     "data": {
      "text/plain": [
       "3.3333333333333335"
      ]
     },
     "execution_count": 10,
     "metadata": {},
     "output_type": "execute_result"
    }
   ],
   "source": [
    "200/60"
   ]
  },
  {
   "cell_type": "markdown",
   "id": "9ea963fd-f616-43ff-9465-18dc7a1aa4eb",
   "metadata": {},
   "source": [
    "## Author"
   ]
  },
  {
   "cell_type": "markdown",
   "id": "53a16b63-9a18-41ef-9e4b-49ed7edea685",
   "metadata": {},
   "source": [
    "Chad Thome"
   ]
  }
 ],
 "metadata": {
  "kernelspec": {
   "display_name": "Python",
   "language": "python",
   "name": "conda-env-python-py"
  },
  "language_info": {
   "codemirror_mode": {
    "name": "ipython",
    "version": 3
   },
   "file_extension": ".py",
   "mimetype": "text/x-python",
   "name": "python",
   "nbconvert_exporter": "python",
   "pygments_lexer": "ipython3",
   "version": "3.7.12"
  }
 },
 "nbformat": 4,
 "nbformat_minor": 5
}
